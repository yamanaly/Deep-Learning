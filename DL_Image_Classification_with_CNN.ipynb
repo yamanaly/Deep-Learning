{
 "cells": [
  {
   "cell_type": "markdown",
   "metadata": {},
   "source": [
    "<h1 style=\"text-align: center;\">Deep Learning<br><br>Assignment-2 (CNN)<br><br>Image Classification with CNN<br><h1>"
   ]
  },
  {
   "attachments": {},
   "cell_type": "markdown",
   "metadata": {},
   "source": [
    "# Task and Dataset Info\n",
    "\n",
    "**Build an image classifier with Convolutional Neural Networks for the Fashion MNIST dataset. This data set includes 10 labels of different clothing types with 28 by 28 *grayscale* images. There is a training set of 60,000 images and 10,000 test images.**\n",
    "\n",
    "    Label\tDescription\n",
    "    0\t    T-shirt/top\n",
    "    1\t    Trouser\n",
    "    2\t    Pullover\n",
    "    3\t    Dress\n",
    "    4\t    Coat\n",
    "    5\t    Sandal\n",
    "    6\t    Shirt\n",
    "    7\t    Sneaker\n",
    "    8\t    Bag\n",
    "    9\t    Ankle boot"
   ]
  },
  {
   "cell_type": "markdown",
   "metadata": {},
   "source": [
    "# Import Libraries"
   ]
  },
  {
   "cell_type": "code",
   "execution_count": 1,
   "metadata": {},
   "outputs": [],
   "source": [
    "import numpy as np\n",
    "import pandas as pd\n",
    "import matplotlib.pyplot as plt\n",
    "import seaborn as sns\n",
    "\n",
    "import warnings\n",
    "warnings.filterwarnings(\"ignore\")\n",
    "warnings.warn(\"this will not show\")\n",
    "\n",
    "plt.rcParams[\"figure.figsize\"] = (10,6)\n",
    "\n",
    "sns.set_style(\"whitegrid\")\n",
    "pd.set_option('display.float_format', lambda x: '%.3f' % x)\n",
    "\n",
    "pd.set_option('display.max_columns', None)"
   ]
  },
  {
   "cell_type": "markdown",
   "metadata": {},
   "source": [
    "# Recognizing and Understanding Data\n",
    "\n",
    "**TASK 1: Run the code below to download the dataset using Keras.**"
   ]
  },
  {
   "cell_type": "code",
   "execution_count": 2,
   "metadata": {},
   "outputs": [],
   "source": [
    "from tensorflow.keras.datasets import fashion_mnist\n",
    "\n",
    "(x_train, y_train), (x_test, y_test) = fashion_mnist.load_data()"
   ]
  },
  {
   "cell_type": "code",
   "execution_count": 3,
   "metadata": {},
   "outputs": [
    {
     "data": {
      "text/plain": [
       "array([[[0, 0, 0, ..., 0, 0, 0],\n",
       "        [0, 0, 0, ..., 0, 0, 0],\n",
       "        [0, 0, 0, ..., 0, 0, 0],\n",
       "        ...,\n",
       "        [0, 0, 0, ..., 0, 0, 0],\n",
       "        [0, 0, 0, ..., 0, 0, 0],\n",
       "        [0, 0, 0, ..., 0, 0, 0]],\n",
       "\n",
       "       [[0, 0, 0, ..., 0, 0, 0],\n",
       "        [0, 0, 0, ..., 0, 0, 0],\n",
       "        [0, 0, 0, ..., 0, 0, 0],\n",
       "        ...,\n",
       "        [0, 0, 0, ..., 0, 0, 0],\n",
       "        [0, 0, 0, ..., 0, 0, 0],\n",
       "        [0, 0, 0, ..., 0, 0, 0]],\n",
       "\n",
       "       [[0, 0, 0, ..., 0, 0, 0],\n",
       "        [0, 0, 0, ..., 0, 0, 0],\n",
       "        [0, 0, 0, ..., 0, 0, 0],\n",
       "        ...,\n",
       "        [0, 0, 0, ..., 0, 0, 0],\n",
       "        [0, 0, 0, ..., 0, 0, 0],\n",
       "        [0, 0, 0, ..., 0, 0, 0]],\n",
       "\n",
       "       ...,\n",
       "\n",
       "       [[0, 0, 0, ..., 0, 0, 0],\n",
       "        [0, 0, 0, ..., 0, 0, 0],\n",
       "        [0, 0, 0, ..., 0, 0, 0],\n",
       "        ...,\n",
       "        [0, 0, 0, ..., 0, 0, 0],\n",
       "        [0, 0, 0, ..., 0, 0, 0],\n",
       "        [0, 0, 0, ..., 0, 0, 0]],\n",
       "\n",
       "       [[0, 0, 0, ..., 0, 0, 0],\n",
       "        [0, 0, 0, ..., 0, 0, 0],\n",
       "        [0, 0, 0, ..., 0, 0, 0],\n",
       "        ...,\n",
       "        [0, 0, 0, ..., 0, 0, 0],\n",
       "        [0, 0, 0, ..., 0, 0, 0],\n",
       "        [0, 0, 0, ..., 0, 0, 0]],\n",
       "\n",
       "       [[0, 0, 0, ..., 0, 0, 0],\n",
       "        [0, 0, 0, ..., 0, 0, 0],\n",
       "        [0, 0, 0, ..., 0, 0, 0],\n",
       "        ...,\n",
       "        [0, 0, 0, ..., 0, 0, 0],\n",
       "        [0, 0, 0, ..., 0, 0, 0],\n",
       "        [0, 0, 0, ..., 0, 0, 0]]], dtype=uint8)"
      ]
     },
     "execution_count": 3,
     "metadata": {},
     "output_type": "execute_result"
    }
   ],
   "source": [
    "x_train"
   ]
  },
  {
   "cell_type": "code",
   "execution_count": 4,
   "metadata": {},
   "outputs": [
    {
     "data": {
      "text/plain": [
       "array([9, 0, 0, ..., 3, 0, 5], dtype=uint8)"
      ]
     },
     "execution_count": 4,
     "metadata": {},
     "output_type": "execute_result"
    }
   ],
   "source": [
    "y_train"
   ]
  },
  {
   "cell_type": "code",
   "execution_count": 5,
   "metadata": {},
   "outputs": [
    {
     "name": "stdout",
     "output_type": "stream",
     "text": [
      "\n",
      "    (60000, 28, 28)\n",
      "    (10000, 28, 28)\n",
      "    (60000,)\n",
      "    (10000,)\n",
      "    \n"
     ]
    }
   ],
   "source": [
    "print(f\"\"\"\n",
    "    {x_train.shape}\n",
    "    {x_test.shape}\n",
    "    {y_train.shape}\n",
    "    {y_test.shape}\n",
    "    \"\"\")"
   ]
  },
  {
   "cell_type": "code",
   "execution_count": 91,
   "metadata": {},
   "outputs": [
    {
     "data": {
      "text/plain": [
       "array([[0.        , 0.        , 0.        , 0.        , 0.        ,\n",
       "        0.00392157, 0.00392157, 0.        , 0.        , 0.        ,\n",
       "        0.        , 0.24705882, 0.10980392, 0.        , 0.        ,\n",
       "        0.        , 0.12941177, 0.33333334, 0.        , 0.        ,\n",
       "        0.        , 0.        , 0.        , 0.        , 0.        ,\n",
       "        0.        , 0.        , 0.        ],\n",
       "       [0.        , 0.        , 0.        , 0.        , 0.        ,\n",
       "        0.00784314, 0.        , 0.        , 0.10980392, 0.49411765,\n",
       "        0.94509804, 1.        , 1.        , 1.        , 1.        ,\n",
       "        1.        , 1.        , 0.9882353 , 0.972549  , 0.43529412,\n",
       "        0.        , 0.        , 0.        , 0.00784314, 0.        ,\n",
       "        0.        , 0.        , 0.        ],\n",
       "       [0.        , 0.        , 0.        , 0.        , 0.00784314,\n",
       "        0.        , 0.        , 0.80784315, 0.95686275, 0.9843137 ,\n",
       "        0.94509804, 0.9019608 , 0.93333334, 0.8666667 , 0.8039216 ,\n",
       "        0.9019608 , 0.9411765 , 0.9019608 , 0.9372549 , 0.9843137 ,\n",
       "        0.9137255 , 0.64705884, 0.        , 0.        , 0.00784314,\n",
       "        0.        , 0.        , 0.        ],\n",
       "       [0.        , 0.        , 0.        , 0.00392157, 0.        ,\n",
       "        0.        , 0.78039217, 0.9843137 , 0.89411765, 0.91764706,\n",
       "        0.9137255 , 0.9254902 , 0.92156863, 0.9607843 , 0.96862745,\n",
       "        0.92941177, 0.91764706, 0.9372549 , 0.9019608 , 0.9019608 ,\n",
       "        0.92156863, 1.        , 0.6901961 , 0.        , 0.        ,\n",
       "        0.00392157, 0.        , 0.        ],\n",
       "       [0.        , 0.        , 0.        , 0.        , 0.        ,\n",
       "        0.31764707, 0.99607843, 0.8862745 , 0.89411765, 0.9372549 ,\n",
       "        0.92941177, 0.9254902 , 0.91764706, 0.9098039 , 0.9137255 ,\n",
       "        0.92156863, 0.92156863, 0.9254902 , 0.9372549 , 0.92941177,\n",
       "        0.9137255 , 0.88235295, 0.9647059 , 0.28627452, 0.        ,\n",
       "        0.        , 0.        , 0.        ],\n",
       "       [0.        , 0.        , 0.01176471, 0.        , 0.        ,\n",
       "        1.        , 0.92156863, 0.9372549 , 0.8745098 , 0.91764706,\n",
       "        0.93333334, 0.9254902 , 0.92941177, 0.9254902 , 0.92156863,\n",
       "        0.92156863, 0.92156863, 0.92156863, 0.9254902 , 0.92156863,\n",
       "        0.91764706, 0.9019608 , 0.90588236, 1.        , 0.09411765,\n",
       "        0.        , 0.01568628, 0.        ],\n",
       "       [0.        , 0.        , 0.        , 0.        , 0.69411767,\n",
       "        0.9372549 , 0.8745098 , 0.99607843, 0.8745098 , 0.9098039 ,\n",
       "        0.91764706, 0.91764706, 0.9254902 , 0.9254902 , 0.92156863,\n",
       "        0.92156863, 0.92156863, 0.92156863, 0.92156863, 0.91764706,\n",
       "        0.90588236, 0.9137255 , 0.87058824, 0.9647059 , 0.34509805,\n",
       "        0.        , 0.00392157, 0.        ],\n",
       "       [0.        , 0.        , 0.        , 0.        , 0.91764706,\n",
       "        0.9372549 , 0.8980392 , 1.        , 0.8627451 , 0.9098039 ,\n",
       "        0.9137255 , 0.9098039 , 0.91764706, 0.92156863, 0.92156863,\n",
       "        0.92156863, 0.92156863, 0.92156863, 0.91764706, 0.9137255 ,\n",
       "        0.9098039 , 0.9019608 , 0.89411765, 0.99607843, 0.54901963,\n",
       "        0.        , 0.        , 0.        ],\n",
       "       [0.        , 0.        , 0.        , 0.        , 0.88235295,\n",
       "        0.9411765 , 0.8862745 , 1.        , 0.8666667 , 0.8901961 ,\n",
       "        0.9098039 , 0.89411765, 0.90588236, 0.9019608 , 0.89411765,\n",
       "        0.8980392 , 0.90588236, 0.9019608 , 0.89411765, 0.89411765,\n",
       "        0.9098039 , 0.8745098 , 0.8980392 , 0.95686275, 0.90588236,\n",
       "        0.        , 0.        , 0.        ],\n",
       "       [0.        , 0.        , 0.        , 0.18431373, 0.9607843 ,\n",
       "        0.90588236, 0.91764706, 0.9764706 , 0.8980392 , 0.8666667 ,\n",
       "        0.8980392 , 0.88235295, 0.8980392 , 0.8901961 , 0.8862745 ,\n",
       "        0.8901961 , 0.89411765, 0.8901961 , 0.89411765, 0.8980392 ,\n",
       "        0.89411765, 0.8784314 , 0.9647059 , 0.9411765 , 0.8901961 ,\n",
       "        0.        , 0.        , 0.        ],\n",
       "       [0.        , 0.        , 0.        , 0.2       , 0.972549  ,\n",
       "        0.9019608 , 0.9607843 , 0.9647059 , 0.9019608 , 0.8862745 ,\n",
       "        0.9019608 , 0.8901961 , 0.9019608 , 0.8980392 , 0.89411765,\n",
       "        0.8980392 , 0.9019608 , 0.89411765, 0.89411765, 0.90588236,\n",
       "        0.88235295, 0.8901961 , 0.9490196 , 0.92941177, 1.        ,\n",
       "        0.        , 0.        , 0.        ],\n",
       "       [0.        , 0.        , 0.        , 0.39607844, 0.99215686,\n",
       "        0.8980392 , 0.96862745, 0.94509804, 0.8666667 , 0.9137255 ,\n",
       "        0.89411765, 0.8901961 , 0.8980392 , 0.89411765, 0.8901961 ,\n",
       "        0.89411765, 0.9019608 , 0.8901961 , 0.9019608 , 0.91764706,\n",
       "        0.88235295, 0.8980392 , 0.9843137 , 0.8980392 , 0.9529412 ,\n",
       "        0.21568628, 0.        , 0.        ],\n",
       "       [0.        , 0.        , 0.        , 0.4       , 1.        ,\n",
       "        0.8901961 , 0.9490196 , 0.94509804, 0.8666667 , 0.91764706,\n",
       "        0.8745098 , 0.9019608 , 0.89411765, 0.90588236, 0.8980392 ,\n",
       "        0.90588236, 0.90588236, 0.8901961 , 0.8980392 , 0.94509804,\n",
       "        0.85882354, 0.9254902 , 0.99607843, 0.88235295, 0.98039216,\n",
       "        0.654902  , 0.        , 0.        ],\n",
       "       [0.        , 0.        , 0.        , 0.3529412 , 1.        ,\n",
       "        0.8980392 , 0.9254902 , 0.90588236, 0.87058824, 0.9254902 ,\n",
       "        0.8745098 , 0.90588236, 0.8980392 , 0.90588236, 0.8980392 ,\n",
       "        0.90588236, 0.90588236, 0.89411765, 0.8784314 , 0.9607843 ,\n",
       "        0.85490197, 0.9529412 , 0.9372549 , 0.8901961 , 0.95686275,\n",
       "        0.6862745 , 0.        , 0.        ],\n",
       "       [0.        , 0.        , 0.        , 0.83137256, 0.98039216,\n",
       "        0.88235295, 0.9254902 , 0.9764706 , 0.8980392 , 0.92941177,\n",
       "        0.8745098 , 0.90588236, 0.8980392 , 0.90588236, 0.8980392 ,\n",
       "        0.90588236, 0.90588236, 0.9019608 , 0.8666667 , 0.9529412 ,\n",
       "        0.88235295, 0.972549  , 0.9019608 , 0.9254902 , 0.91764706,\n",
       "        1.        , 0.00392157, 0.        ],\n",
       "       [0.        , 0.        , 0.        , 0.9607843 , 0.9529412 ,\n",
       "        0.9098039 , 0.9529412 , 0.85490197, 0.89411765, 0.93333334,\n",
       "        0.87058824, 0.90588236, 0.8980392 , 0.90588236, 0.8980392 ,\n",
       "        0.90588236, 0.90588236, 0.9019608 , 0.87058824, 0.92941177,\n",
       "        0.92941177, 0.9882353 , 0.8980392 , 0.9372549 , 0.9411765 ,\n",
       "        0.8745098 , 0.        , 0.        ],\n",
       "       [0.        , 0.        , 0.10588235, 1.        , 0.92156863,\n",
       "        0.9490196 , 0.92941177, 0.84705883, 0.9019608 , 0.9254902 ,\n",
       "        0.8784314 , 0.8980392 , 0.8901961 , 0.9137255 , 0.9137255 ,\n",
       "        0.9137255 , 0.9019608 , 0.89411765, 0.8784314 , 0.9019608 ,\n",
       "        0.9607843 , 0.96862745, 0.8666667 , 0.9529412 , 0.9372549 ,\n",
       "        0.9882353 , 0.        , 0.        ],\n",
       "       [0.        , 0.        , 0.34509805, 1.        , 0.9098039 ,\n",
       "        0.972549  , 0.9254902 , 0.8156863 , 0.91764706, 0.90588236,\n",
       "        0.8745098 , 0.8901961 , 0.8862745 , 0.9137255 , 0.9098039 ,\n",
       "        0.9098039 , 0.9019608 , 0.89411765, 0.8784314 , 0.8784314 ,\n",
       "        0.92156863, 0.9137255 , 0.91764706, 0.96862745, 0.92156863,\n",
       "        1.        , 0.        , 0.        ],\n",
       "       [0.        , 0.        , 0.3254902 , 1.        , 0.88235295,\n",
       "        0.98039216, 0.92941177, 0.8784314 , 0.9254902 , 0.8980392 ,\n",
       "        0.88235295, 0.88235295, 0.8901961 , 0.92156863, 0.8980392 ,\n",
       "        0.90588236, 0.9019608 , 0.9019608 , 0.8901961 , 0.8666667 ,\n",
       "        0.8901961 , 0.8666667 , 0.9372549 , 0.98039216, 0.90588236,\n",
       "        1.        , 0.        , 0.        ],\n",
       "       [0.        , 0.        , 0.07843138, 1.        , 0.8784314 ,\n",
       "        0.972549  , 0.91764706, 0.8862745 , 0.9098039 , 0.87058824,\n",
       "        0.88235295, 0.8784314 , 0.90588236, 0.93333334, 0.8862745 ,\n",
       "        0.9019608 , 0.89411765, 0.9019608 , 0.9019608 , 0.8666667 ,\n",
       "        0.8980392 , 0.88235295, 0.95686275, 0.9647059 , 0.9019608 ,\n",
       "        1.        , 0.        , 0.        ],\n",
       "       [0.        , 0.        , 0.37254903, 1.        , 0.85490197,\n",
       "        0.9490196 , 1.        , 0.9098039 , 0.8862745 , 0.8784314 ,\n",
       "        0.8980392 , 0.89411765, 0.89411765, 0.9098039 , 0.89411765,\n",
       "        0.8980392 , 0.90588236, 0.9137255 , 0.9098039 , 0.8862745 ,\n",
       "        0.8666667 , 0.8784314 , 0.96862745, 0.95686275, 0.89411765,\n",
       "        1.        , 0.        , 0.        ],\n",
       "       [0.        , 0.        , 0.654902  , 1.        , 0.8352941 ,\n",
       "        0.92156863, 1.        , 0.31764707, 0.9607843 , 0.9843137 ,\n",
       "        0.93333334, 0.9254902 , 0.9019608 , 0.8980392 , 0.9019608 ,\n",
       "        0.8980392 , 0.9019608 , 0.90588236, 0.93333334, 0.9411765 ,\n",
       "        1.        , 0.7529412 , 1.        , 0.9372549 , 0.89411765,\n",
       "        1.        , 0.09019608, 0.        ],\n",
       "       [0.        , 0.        , 0.6784314 , 0.9490196 , 0.8784314 ,\n",
       "        0.9137255 , 1.        , 0.        , 0.53333336, 0.8862745 ,\n",
       "        0.9372549 , 1.        , 0.8980392 , 0.9254902 , 0.9254902 ,\n",
       "        0.91764706, 0.9137255 , 0.89411765, 0.9843137 , 0.972549  ,\n",
       "        0.78431374, 0.31764707, 1.        , 0.92941177, 0.88235295,\n",
       "        1.        , 0.39607844, 0.        ],\n",
       "       [0.        , 0.        , 0.6745098 , 1.        , 0.8862745 ,\n",
       "        0.9137255 , 1.        , 0.        , 0.        , 0.        ,\n",
       "        0.        , 0.        , 0.03137255, 0.08235294, 0.08627451,\n",
       "        0.08235294, 0.07843138, 0.05490196, 0.        , 0.        ,\n",
       "        0.        , 0.        , 1.        , 0.93333334, 0.8980392 ,\n",
       "        0.9647059 , 0.69803923, 0.        ],\n",
       "       [0.        , 0.        , 0.0627451 , 1.        , 0.9254902 ,\n",
       "        0.93333334, 0.9882353 , 0.        , 0.        , 0.        ,\n",
       "        0.        , 0.        , 0.        , 0.        , 0.        ,\n",
       "        0.        , 0.        , 0.        , 0.        , 0.        ,\n",
       "        0.        , 0.        , 0.87058824, 0.95686275, 0.87058824,\n",
       "        0.99607843, 0.46666667, 0.        ],\n",
       "       [0.        , 0.        , 0.        , 0.11764706, 0.89411765,\n",
       "        0.9490196 , 0.6392157 , 0.        , 0.        , 0.        ,\n",
       "        0.        , 0.00784314, 0.01568628, 0.02352941, 0.01960784,\n",
       "        0.01960784, 0.01568628, 0.01568628, 0.00784314, 0.        ,\n",
       "        0.00392157, 0.        , 0.5921569 , 0.9843137 , 0.92156863,\n",
       "        0.7058824 , 0.        , 0.        ],\n",
       "       [0.        , 0.        , 0.        , 0.        , 0.91764706,\n",
       "        1.        , 0.7490196 , 0.        , 0.04313726, 0.        ,\n",
       "        0.        , 0.        , 0.        , 0.        , 0.        ,\n",
       "        0.        , 0.        , 0.        , 0.        , 0.        ,\n",
       "        0.01568628, 0.        , 0.40392157, 0.9647059 , 0.96862745,\n",
       "        0.28235295, 0.        , 0.        ],\n",
       "       [0.        , 0.        , 0.        , 0.00392157, 0.37254903,\n",
       "        0.3019608 , 0.20392157, 0.        , 0.01568628, 0.        ,\n",
       "        0.        , 0.        , 0.        , 0.        , 0.        ,\n",
       "        0.        , 0.        , 0.        , 0.        , 0.        ,\n",
       "        0.01176471, 0.        , 0.32156864, 0.92941177, 0.90588236,\n",
       "        0.27450982, 0.        , 0.        ]], dtype=float32)"
      ]
     },
     "execution_count": 91,
     "metadata": {},
     "output_type": "execute_result"
    }
   ],
   "source": [
    "x_train[7]"
   ]
  },
  {
   "cell_type": "code",
   "execution_count": 90,
   "metadata": {},
   "outputs": [
    {
     "data": {
      "text/plain": [
       "(28, 28)"
      ]
     },
     "execution_count": 90,
     "metadata": {},
     "output_type": "execute_result"
    }
   ],
   "source": [
    "x_train[7].shape"
   ]
  },
  {
   "cell_type": "code",
   "execution_count": 89,
   "metadata": {},
   "outputs": [
    {
     "data": {
      "image/png": "[encoded data removed]",
      "text/plain": [
       "<Figure size 720x432 with 1 Axes>"
      ]
     },
     "metadata": {},
     "output_type": "display_data"
    }
   ],
   "source": [
    "plt.imshow(x_train[7]);"
   ]
  },
  {
   "cell_type": "code",
   "execution_count": 9,
   "metadata": {},
   "outputs": [
    {
     "data": {
      "text/plain": [
       "(60000,)"
      ]
     },
     "execution_count": 9,
     "metadata": {},
     "output_type": "execute_result"
    }
   ],
   "source": [
    "y_train.shape"
   ]
  },
  {
   "cell_type": "code",
   "execution_count": 10,
   "metadata": {},
   "outputs": [
    {
     "data": {
      "text/plain": [
       "array([9, 0, 0, ..., 3, 0, 5], dtype=uint8)"
      ]
     },
     "execution_count": 10,
     "metadata": {},
     "output_type": "execute_result"
    }
   ],
   "source": [
    "y_train"
   ]
  },
  {
   "cell_type": "code",
   "execution_count": 11,
   "metadata": {},
   "outputs": [
    {
     "data": {
      "text/plain": [
       "1"
      ]
     },
     "execution_count": 11,
     "metadata": {},
     "output_type": "execute_result"
    }
   ],
   "source": [
    "y_train.ndim"
   ]
  },
  {
   "cell_type": "code",
   "execution_count": 92,
   "metadata": {},
   "outputs": [
    {
     "data": {
      "text/plain": [
       "2"
      ]
     },
     "execution_count": 92,
     "metadata": {},
     "output_type": "execute_result"
    }
   ],
   "source": [
    "y_train[7]"
   ]
  },
  {
   "cell_type": "code",
   "execution_count": 13,
   "metadata": {},
   "outputs": [
    {
     "data": {
      "text/plain": [
       "9    6000\n",
       "8    6000\n",
       "7    6000\n",
       "6    6000\n",
       "5    6000\n",
       "4    6000\n",
       "3    6000\n",
       "2    6000\n",
       "1    6000\n",
       "0    6000\n",
       "dtype: int64"
      ]
     },
     "execution_count": 13,
     "metadata": {},
     "output_type": "execute_result"
    }
   ],
   "source": [
    "pd.Series(y_train.flatten()).value_counts()"
   ]
  },
  {
   "cell_type": "markdown",
   "metadata": {},
   "source": [
    "**TASK 2: Use matplotlib to view an image from the data set. It can be any image from the data set.**"
   ]
  },
  {
   "cell_type": "code",
   "execution_count": 14,
   "metadata": {},
   "outputs": [],
   "source": [
    "classes=[\"T-shirt/top\", \"Trouser\",\"Pullover\",\"Dress\",\"Coat\",\"Sandal\",\"Shirt\",\"Sneaker\",\"Bag\",\"Ankle boot\"]"
   ]
  },
  {
   "cell_type": "code",
   "execution_count": 96,
   "metadata": {},
   "outputs": [
    {
     "data": {
      "text/plain": [
       "8"
      ]
     },
     "execution_count": 96,
     "metadata": {},
     "output_type": "execute_result"
    }
   ],
   "source": [
    "y_train[35]"
   ]
  },
  {
   "cell_type": "code",
   "execution_count": 97,
   "metadata": {},
   "outputs": [
    {
     "data": {
      "text/plain": [
       "'Bag'"
      ]
     },
     "execution_count": 97,
     "metadata": {},
     "output_type": "execute_result"
    }
   ],
   "source": [
    "classes[y_train[35]]"
   ]
  },
  {
   "cell_type": "code",
   "execution_count": 98,
   "metadata": {},
   "outputs": [
    {
     "data": {
      "image/png": "[encoded data removed]",
      "text/plain": [
       "<Figure size 720x432 with 1 Axes>"
      ]
     },
     "metadata": {},
     "output_type": "display_data"
    }
   ],
   "source": [
    "plt.imshow(x_train[35]);"
   ]
  },
  {
   "cell_type": "code",
   "execution_count": 18,
   "metadata": {},
   "outputs": [
    {
     "data": {
      "image/png": "[encoded data removed]",
      "text/plain": [
       "<Figure size 1440x720 with 32 Axes>"
      ]
     },
     "metadata": {},
     "output_type": "display_data"
    }
   ],
   "source": [
    "plt.figure(figsize=(20, 10))\n",
    "for i in range(32):\n",
    "    rand_index = int(np.random.randint(low=0, high=60000, size=1))\n",
    "    plt.subplot(4, 8, i+1)\n",
    "    plt.axis('off')\n",
    "    plt.title(classes[int(y_train[rand_index])])\n",
    "    plt.imshow(x_train[rand_index])"
   ]
  },
  {
   "cell_type": "markdown",
   "metadata": {},
   "source": [
    "# Data Preprocessing\n",
    "\n",
    "**TASK 3: Normalize the X train and X test data by dividing by the max value of the image arrays.**"
   ]
  },
  {
   "cell_type": "code",
   "execution_count": 19,
   "metadata": {},
   "outputs": [
    {
     "data": {
      "text/plain": [
       "0"
      ]
     },
     "execution_count": 19,
     "metadata": {},
     "output_type": "execute_result"
    }
   ],
   "source": [
    "x_train.min()"
   ]
  },
  {
   "cell_type": "code",
   "execution_count": 20,
   "metadata": {},
   "outputs": [
    {
     "data": {
      "text/plain": [
       "255"
      ]
     },
     "execution_count": 20,
     "metadata": {},
     "output_type": "execute_result"
    }
   ],
   "source": [
    "x_train.max()"
   ]
  },
  {
   "cell_type": "code",
   "execution_count": 21,
   "metadata": {},
   "outputs": [],
   "source": [
    "x_train = x_train.astype('float32')\n",
    "x_test = x_test.astype('float32')\n",
    "x_train /= 255\n",
    "x_test /= 255"
   ]
  },
  {
   "cell_type": "code",
   "execution_count": 22,
   "metadata": {},
   "outputs": [
    {
     "data": {
      "text/plain": [
       "0.0"
      ]
     },
     "execution_count": 22,
     "metadata": {},
     "output_type": "execute_result"
    }
   ],
   "source": [
    "x_train.min()"
   ]
  },
  {
   "cell_type": "code",
   "execution_count": 23,
   "metadata": {},
   "outputs": [
    {
     "data": {
      "text/plain": [
       "1.0"
      ]
     },
     "execution_count": 23,
     "metadata": {},
     "output_type": "execute_result"
    }
   ],
   "source": [
    "x_train.max()"
   ]
  },
  {
   "cell_type": "code",
   "execution_count": 24,
   "metadata": {},
   "outputs": [
    {
     "data": {
      "image/png": "[encoded data removed]",
      "text/plain": [
       "<Figure size 720x432 with 1 Axes>"
      ]
     },
     "metadata": {},
     "output_type": "display_data"
    }
   ],
   "source": [
    "plt.imshow(x_train[6]);"
   ]
  },
  {
   "cell_type": "markdown",
   "metadata": {},
   "source": [
    "**Task 4: Reshape the X arrays to include a 4 dimension of the single channel. Similar to what we did for the numbers MNIST data set.**"
   ]
  },
  {
   "cell_type": "code",
   "execution_count": 25,
   "metadata": {},
   "outputs": [
    {
     "data": {
      "text/plain": [
       "((60000, 28, 28), (10000, 28, 28))"
      ]
     },
     "execution_count": 25,
     "metadata": {},
     "output_type": "execute_result"
    }
   ],
   "source": [
    "x_train.shape,x_test.shape"
   ]
  },
  {
   "cell_type": "code",
   "execution_count": 26,
   "metadata": {},
   "outputs": [
    {
     "data": {
      "text/plain": [
       "(60000, 28, 28, 1)"
      ]
     },
     "execution_count": 26,
     "metadata": {},
     "output_type": "execute_result"
    }
   ],
   "source": [
    "x_train.reshape(60000, 28, 28, 1).shape"
   ]
  },
  {
   "cell_type": "code",
   "execution_count": 27,
   "metadata": {},
   "outputs": [],
   "source": [
    "X_train = x_train.reshape(x_train.shape[0],28, 28, 1) \n",
    "X_test = x_test.reshape(x_test.shape[0], 28, 28, 1)"
   ]
  },
  {
   "cell_type": "code",
   "execution_count": 28,
   "metadata": {},
   "outputs": [
    {
     "data": {
      "text/plain": [
       "((60000, 28, 28, 1), (10000, 28, 28, 1))"
      ]
     },
     "execution_count": 28,
     "metadata": {},
     "output_type": "execute_result"
    }
   ],
   "source": [
    "X_train.shape, X_test.shape"
   ]
  },
  {
   "cell_type": "markdown",
   "metadata": {},
   "source": [
    "**TASK 5: Convert the y_train and y_test values to be one-hot encoded for categorical analysis by Keras.**"
   ]
  },
  {
   "cell_type": "code",
   "execution_count": 29,
   "metadata": {},
   "outputs": [],
   "source": [
    "from tensorflow.keras.utils import to_categorical"
   ]
  },
  {
   "cell_type": "code",
   "execution_count": 30,
   "metadata": {},
   "outputs": [
    {
     "data": {
      "text/plain": [
       "(10000, 10)"
      ]
     },
     "execution_count": 30,
     "metadata": {},
     "output_type": "execute_result"
    }
   ],
   "source": [
    "Y_train = to_categorical(y_train,10) \n",
    "Y_test = to_categorical(y_test,10)\n",
    "Y_test.shape"
   ]
  },
  {
   "cell_type": "code",
   "execution_count": 31,
   "metadata": {},
   "outputs": [
    {
     "data": {
      "text/plain": [
       "7"
      ]
     },
     "execution_count": 31,
     "metadata": {},
     "output_type": "execute_result"
    }
   ],
   "source": [
    "y_train[6]"
   ]
  },
  {
   "cell_type": "code",
   "execution_count": 32,
   "metadata": {},
   "outputs": [
    {
     "data": {
      "text/plain": [
       "array([0., 0., 0., 0., 0., 0., 0., 1., 0., 0.], dtype=float32)"
      ]
     },
     "execution_count": 32,
     "metadata": {},
     "output_type": "execute_result"
    }
   ],
   "source": [
    "Y_train[6]"
   ]
  },
  {
   "cell_type": "code",
   "execution_count": 33,
   "metadata": {},
   "outputs": [
    {
     "data": {
      "text/plain": [
       "4"
      ]
     },
     "execution_count": 33,
     "metadata": {},
     "output_type": "execute_result"
    }
   ],
   "source": [
    "y_test[10]"
   ]
  },
  {
   "cell_type": "code",
   "execution_count": 34,
   "metadata": {},
   "outputs": [
    {
     "data": {
      "text/plain": [
       "array([0., 0., 0., 0., 1., 0., 0., 0., 0., 0.], dtype=float32)"
      ]
     },
     "execution_count": 34,
     "metadata": {},
     "output_type": "execute_result"
    }
   ],
   "source": [
    "Y_test[10]"
   ]
  },
  {
   "cell_type": "markdown",
   "metadata": {},
   "source": [
    "# Modeling"
   ]
  },
  {
   "cell_type": "markdown",
   "metadata": {},
   "source": [
    "## Create the model\n",
    "\n",
    "**TASK 5: Use Keras to create a model consisting of at least the following layers (but feel free to experiment):**\n",
    "\n",
    "* 2D Convolutional Layer, filters=28 and kernel_size=(3,3)\n",
    "* Pooling Layer where pool_size = (2,2) strides=(1,1)\n",
    "\n",
    "* Flatten Layer\n",
    "* Dense Layer (128 Neurons, but feel free to play around with this value), RELU activation\n",
    "\n",
    "* Final Dense Layer of 10 Neurons with a softmax activation\n",
    "\n",
    "**Then compile the model with these parameters: loss='categorical_crossentropy', optimizer='rmsprop', metrics=['accuracy']**"
   ]
  },
  {
   "cell_type": "code",
   "execution_count": 35,
   "metadata": {},
   "outputs": [],
   "source": [
    "from tensorflow.keras.models import Sequential\n",
    "from tensorflow.keras.layers import Dense, Conv2D, MaxPool2D, Flatten, Dropout"
   ]
  },
  {
   "cell_type": "code",
   "execution_count": 36,
   "metadata": {},
   "outputs": [],
   "source": [
    "from tensorflow.keras.layers import BatchNormalization"
   ]
  },
  {
   "cell_type": "code",
   "execution_count": 37,
   "metadata": {},
   "outputs": [
    {
     "name": "stdout",
     "output_type": "stream",
     "text": [
      "WARNING:tensorflow:From c:\\Users\\yaman\\anaconda3\\envs\\ali-gpu\\lib\\site-packages\\tensorflow_core\\python\\ops\\resource_variable_ops.py:1630: calling BaseResourceVariable.__init__ (from tensorflow.python.ops.resource_variable_ops) with constraint is deprecated and will be removed in a future version.\n",
      "Instructions for updating:\n",
      "If using Keras pass *_constraint arguments to layers.\n"
     ]
    }
   ],
   "source": [
    "model = Sequential()\n",
    "\n",
    "model.add(Conv2D(filters=28, kernel_size=(3,3), input_shape=(28, 28, 1), activation='relu', padding='same'))\n",
    "model.add(BatchNormalization())\n",
    "model.add(MaxPool2D(pool_size=(2, 2), strides=(1,1)))\n",
    "model.add(Dropout(0.3))\n",
    "\n",
    "model.add(Conv2D(filters=56, kernel_size=(3,3), activation='relu', padding='same'))\n",
    "model.add(BatchNormalization())\n",
    "model.add(MaxPool2D(pool_size=(2, 2)))\n",
    "model.add(Dropout(0.3))\n",
    "\n",
    "model.add(Flatten())\n",
    "\n",
    "model.add(Dense(128, activation='relu'))\n",
    "model.add(BatchNormalization())\n",
    "model.add(Dropout(0.3))\n",
    "model.add(Dense(64, activation='relu'))\n",
    "model.add(BatchNormalization())\n",
    "model.add(Dropout(0.3))\n",
    "model.add(Dense(10, activation='softmax'))\n",
    "\n",
    "model.compile(loss='categorical_crossentropy',\n",
    "              optimizer='adam',\n",
    "              metrics=['accuracy'])"
   ]
  },
  {
   "cell_type": "code",
   "execution_count": 38,
   "metadata": {},
   "outputs": [
    {
     "name": "stdout",
     "output_type": "stream",
     "text": [
      "Model: \"sequential\"\n",
      "_________________________________________________________________\n",
      "Layer (type)                 Output Shape              Param #   \n",
      "=================================================================\n",
      "conv2d (Conv2D)              (None, 28, 28, 28)        280       \n",
      "_________________________________________________________________\n",
      "batch_normalization (BatchNo (None, 28, 28, 28)        112       \n",
      "_________________________________________________________________\n",
      "max_pooling2d (MaxPooling2D) (None, 27, 27, 28)        0         \n",
      "_________________________________________________________________\n",
      "dropout (Dropout)            (None, 27, 27, 28)        0         \n",
      "_________________________________________________________________\n",
      "conv2d_1 (Conv2D)            (None, 27, 27, 56)        14168     \n",
      "_________________________________________________________________\n",
      "batch_normalization_1 (Batch (None, 27, 27, 56)        224       \n",
      "_________________________________________________________________\n",
      "max_pooling2d_1 (MaxPooling2 (None, 13, 13, 56)        0         \n",
      "_________________________________________________________________\n",
      "dropout_1 (Dropout)          (None, 13, 13, 56)        0         \n",
      "_________________________________________________________________\n",
      "flatten (Flatten)            (None, 9464)              0         \n",
      "_________________________________________________________________\n",
      "dense (Dense)                (None, 128)               1211520   \n",
      "_________________________________________________________________\n",
      "batch_normalization_2 (Batch (None, 128)               512       \n",
      "_________________________________________________________________\n",
      "dropout_2 (Dropout)          (None, 128)               0         \n",
      "_________________________________________________________________\n",
      "dense_1 (Dense)              (None, 64)                8256      \n",
      "_________________________________________________________________\n",
      "batch_normalization_3 (Batch (None, 64)                256       \n",
      "_________________________________________________________________\n",
      "dropout_3 (Dropout)          (None, 64)                0         \n",
      "_________________________________________________________________\n",
      "dense_2 (Dense)              (None, 10)                650       \n",
      "=================================================================\n",
      "Total params: 1,235,978\n",
      "Trainable params: 1,235,426\n",
      "Non-trainable params: 552\n",
      "_________________________________________________________________\n"
     ]
    }
   ],
   "source": [
    "model.summary()"
   ]
  },
  {
   "cell_type": "markdown",
   "metadata": {},
   "source": [
    "##  Model Training \n",
    "\n",
    "**TASK 6: Train/Fit the model to the x_train set by using EarlyStop. Amount of epochs is up to you.**"
   ]
  },
  {
   "cell_type": "code",
   "execution_count": 39,
   "metadata": {},
   "outputs": [],
   "source": [
    "from tensorflow.keras.callbacks import EarlyStopping"
   ]
  },
  {
   "cell_type": "code",
   "execution_count": 40,
   "metadata": {},
   "outputs": [],
   "source": [
    "early_stop = EarlyStopping(monitor='val_loss', patience=2, restore_best_weights = True)"
   ]
  },
  {
   "cell_type": "code",
   "execution_count": 41,
   "metadata": {},
   "outputs": [
    {
     "name": "stdout",
     "output_type": "stream",
     "text": [
      "Train on 60000 samples, validate on 10000 samples\n",
      "Epoch 1/20\n",
      "60000/60000 [==============================] - 220s 4ms/sample - loss: 0.4653 - acc: 0.8395 - val_loss: 0.3664 - val_acc: 0.8824\n",
      "Epoch 2/20\n",
      "60000/60000 [==============================] - 245s 4ms/sample - loss: 0.3139 - acc: 0.8888 - val_loss: 0.3838 - val_acc: 0.8677\n",
      "Epoch 3/20\n",
      "60000/60000 [==============================] - 231s 4ms/sample - loss: 0.2832 - acc: 0.9012 - val_loss: 0.3323 - val_acc: 0.9017\n",
      "Epoch 4/20\n",
      "60000/60000 [==============================] - 261s 4ms/sample - loss: 0.2584 - acc: 0.9078 - val_loss: 0.2738 - val_acc: 0.9021\n",
      "Epoch 5/20\n",
      "60000/60000 [==============================] - 262s 4ms/sample - loss: 0.2359 - acc: 0.9149 - val_loss: 0.2456 - val_acc: 0.9106\n",
      "Epoch 6/20\n",
      "60000/60000 [==============================] - 282s 5ms/sample - loss: 0.2213 - acc: 0.9209 - val_loss: 0.2264 - val_acc: 0.9159\n",
      "Epoch 7/20\n",
      "60000/60000 [==============================] - 279s 5ms/sample - loss: 0.2106 - acc: 0.9248 - val_loss: 0.2236 - val_acc: 0.9193\n",
      "Epoch 8/20\n",
      "60000/60000 [==============================] - 276s 5ms/sample - loss: 0.2010 - acc: 0.9274 - val_loss: 0.2219 - val_acc: 0.9245\n",
      "Epoch 9/20\n",
      "60000/60000 [==============================] - 286s 5ms/sample - loss: 0.1884 - acc: 0.9320 - val_loss: 0.2169 - val_acc: 0.9262\n",
      "Epoch 10/20\n",
      "60000/60000 [==============================] - 271s 5ms/sample - loss: 0.1814 - acc: 0.9344 - val_loss: 0.2142 - val_acc: 0.9261\n",
      "Epoch 11/20\n",
      "60000/60000 [==============================] - 223s 4ms/sample - loss: 0.1736 - acc: 0.9362 - val_loss: 0.2287 - val_acc: 0.9199\n",
      "Epoch 12/20\n",
      "60000/60000 [==============================] - 205s 3ms/sample - loss: 0.1633 - acc: 0.9404 - val_loss: 0.2158 - val_acc: 0.9239\n"
     ]
    },
    {
     "data": {
      "text/plain": [
       "<tensorflow.python.keras.callbacks.History at 0x2b842daea58>"
      ]
     },
     "execution_count": 41,
     "metadata": {},
     "output_type": "execute_result"
    }
   ],
   "source": [
    "model.fit(X_train, Y_train, batch_size=48, epochs=20, validation_data=(X_test,Y_test),callbacks=[early_stop])"
   ]
  },
  {
   "cell_type": "markdown",
   "metadata": {},
   "source": [
    "**TASK 7: Plot values of metrics you used in your model.**"
   ]
  },
  {
   "cell_type": "code",
   "execution_count": 42,
   "metadata": {},
   "outputs": [
    {
     "data": {
      "text/plain": [
       "['loss', 'acc']"
      ]
     },
     "execution_count": 42,
     "metadata": {},
     "output_type": "execute_result"
    }
   ],
   "source": [
    "model.metrics_names"
   ]
  },
  {
   "cell_type": "code",
   "execution_count": 43,
   "metadata": {},
   "outputs": [
    {
     "data": {
      "text/html": [
       "<div>\n",
       "<style scoped>\n",
       "    .dataframe tbody tr th:only-of-type {\n",
       "        vertical-align: middle;\n",
       "    }\n",
       "\n",
       "    .dataframe tbody tr th {\n",
       "        vertical-align: top;\n",
       "    }\n",
       "\n",
       "    .dataframe thead th {\n",
       "        text-align: right;\n",
       "    }\n",
       "</style>\n",
       "<table border=\"1\" class=\"dataframe\">\n",
       "  <thead>\n",
       "    <tr style=\"text-align: right;\">\n",
       "      <th></th>\n",
       "      <th>loss</th>\n",
       "      <th>acc</th>\n",
       "      <th>val_loss</th>\n",
       "      <th>val_acc</th>\n",
       "    </tr>\n",
       "  </thead>\n",
       "  <tbody>\n",
       "    <tr>\n",
       "      <th>0</th>\n",
       "      <td>0.465</td>\n",
       "      <td>0.840</td>\n",
       "      <td>0.366</td>\n",
       "      <td>0.882</td>\n",
       "    </tr>\n",
       "    <tr>\n",
       "      <th>1</th>\n",
       "      <td>0.314</td>\n",
       "      <td>0.889</td>\n",
       "      <td>0.384</td>\n",
       "      <td>0.868</td>\n",
       "    </tr>\n",
       "    <tr>\n",
       "      <th>2</th>\n",
       "      <td>0.283</td>\n",
       "      <td>0.901</td>\n",
       "      <td>0.332</td>\n",
       "      <td>0.902</td>\n",
       "    </tr>\n",
       "    <tr>\n",
       "      <th>3</th>\n",
       "      <td>0.258</td>\n",
       "      <td>0.908</td>\n",
       "      <td>0.274</td>\n",
       "      <td>0.902</td>\n",
       "    </tr>\n",
       "    <tr>\n",
       "      <th>4</th>\n",
       "      <td>0.236</td>\n",
       "      <td>0.915</td>\n",
       "      <td>0.246</td>\n",
       "      <td>0.911</td>\n",
       "    </tr>\n",
       "    <tr>\n",
       "      <th>5</th>\n",
       "      <td>0.221</td>\n",
       "      <td>0.921</td>\n",
       "      <td>0.226</td>\n",
       "      <td>0.916</td>\n",
       "    </tr>\n",
       "    <tr>\n",
       "      <th>6</th>\n",
       "      <td>0.211</td>\n",
       "      <td>0.925</td>\n",
       "      <td>0.224</td>\n",
       "      <td>0.919</td>\n",
       "    </tr>\n",
       "  </tbody>\n",
       "</table>\n",
       "</div>"
      ],
      "text/plain": [
       "   loss   acc  val_loss  val_acc\n",
       "0 0.465 0.840     0.366    0.882\n",
       "1 0.314 0.889     0.384    0.868\n",
       "2 0.283 0.901     0.332    0.902\n",
       "3 0.258 0.908     0.274    0.902\n",
       "4 0.236 0.915     0.246    0.911\n",
       "5 0.221 0.921     0.226    0.916\n",
       "6 0.211 0.925     0.224    0.919"
      ]
     },
     "execution_count": 43,
     "metadata": {},
     "output_type": "execute_result"
    }
   ],
   "source": [
    "summary = pd.DataFrame(model.history.history)\n",
    "summary.head(7)"
   ]
  },
  {
   "cell_type": "code",
   "execution_count": 44,
   "metadata": {},
   "outputs": [
    {
     "data": {
      "image/png": "[encoded data removed]",
      "text/plain": [
       "<Figure size 720x432 with 1 Axes>"
      ]
     },
     "metadata": {},
     "output_type": "display_data"
    }
   ],
   "source": [
    "summary[[\"loss\", \"val_loss\"]].plot();"
   ]
  },
  {
   "cell_type": "code",
   "execution_count": 45,
   "metadata": {},
   "outputs": [
    {
     "data": {
      "image/png": "[encoded data removed]",
      "text/plain": [
       "<Figure size 720x432 with 1 Axes>"
      ]
     },
     "metadata": {},
     "output_type": "display_data"
    }
   ],
   "source": [
    "summary[[\"acc\", \"val_acc\"]].plot();"
   ]
  },
  {
   "cell_type": "markdown",
   "metadata": {},
   "source": [
    "## Model Evaluation\n",
    "\n",
    "**TASK 8: Show the accuracy,precision,recall,f1-score the model achieved on the x_test data set. Keep in mind, there are quite a few ways to do this, but we recommend following the same procedure we showed in the MNIST lecture.**"
   ]
  },
  {
   "cell_type": "code",
   "execution_count": 46,
   "metadata": {},
   "outputs": [],
   "source": [
    "from sklearn.metrics import classification_report, confusion_matrix,multilabel_confusion_matrix"
   ]
  },
  {
   "cell_type": "code",
   "execution_count": 47,
   "metadata": {},
   "outputs": [
    {
     "name": "stdout",
     "output_type": "stream",
     "text": [
      "10000/10000 [==============================] - 5s 506us/sample - loss: 0.2142 - acc: 0.9261\n"
     ]
    },
    {
     "data": {
      "text/plain": [
       "[0.21415676954984664, 0.9261]"
      ]
     },
     "execution_count": 47,
     "metadata": {},
     "output_type": "execute_result"
    }
   ],
   "source": [
    "model.evaluate(X_test,Y_test)"
   ]
  },
  {
   "cell_type": "code",
   "execution_count": 48,
   "metadata": {},
   "outputs": [
    {
     "name": "stdout",
     "output_type": "stream",
     "text": [
      "Test loss: 0.21415676954984664\n",
      "Test accuracy: 0.9261\n"
     ]
    }
   ],
   "source": [
    "score = model.evaluate(X_test, Y_test, verbose=0)\n",
    "print('Test loss:', score[0])\n",
    "print('Test accuracy:', score[1])"
   ]
  },
  {
   "cell_type": "code",
   "execution_count": 49,
   "metadata": {},
   "outputs": [
    {
     "data": {
      "text/plain": [
       "array([[5.89730575e-08, 2.99569720e-08, 8.40449346e-08, ...,\n",
       "        1.19714648e-04, 1.14162795e-08, 9.99850988e-01],\n",
       "       [4.98675836e-05, 5.50245396e-08, 9.99834061e-01, ...,\n",
       "        1.22120184e-06, 1.94165381e-07, 1.21163779e-07],\n",
       "       [2.67774993e-07, 9.99997973e-01, 2.17775948e-07, ...,\n",
       "        3.66503983e-08, 2.73836093e-07, 2.49532945e-08],\n",
       "       ...,\n",
       "       [4.10721850e-06, 6.41369638e-07, 8.56496445e-06, ...,\n",
       "        4.28774774e-06, 9.99956965e-01, 5.03806086e-06],\n",
       "       [2.25037820e-06, 9.99985099e-01, 1.43421789e-06, ...,\n",
       "        5.39402038e-07, 7.70245265e-07, 9.16009697e-07],\n",
       "       [2.77495037e-05, 5.04631425e-05, 2.21694427e-04, ...,\n",
       "        2.91016251e-01, 1.24484606e-04, 1.19338324e-02]], dtype=float32)"
      ]
     },
     "execution_count": 49,
     "metadata": {},
     "output_type": "execute_result"
    }
   ],
   "source": [
    "pred_prob = model.predict(X_test)\n",
    "pred_prob"
   ]
  },
  {
   "cell_type": "code",
   "execution_count": 50,
   "metadata": {},
   "outputs": [
    {
     "data": {
      "text/plain": [
       "(10000, 10)"
      ]
     },
     "execution_count": 50,
     "metadata": {},
     "output_type": "execute_result"
    }
   ],
   "source": [
    "pred_prob.shape"
   ]
  },
  {
   "cell_type": "code",
   "execution_count": 51,
   "metadata": {},
   "outputs": [
    {
     "data": {
      "text/plain": [
       "array([5.89730575e-08, 2.99569720e-08, 8.40449346e-08, 1.04586832e-07,\n",
       "       1.62229682e-07, 2.88141910e-05, 4.81352522e-08, 1.19714648e-04,\n",
       "       1.14162795e-08, 9.99850988e-01], dtype=float32)"
      ]
     },
     "execution_count": 51,
     "metadata": {},
     "output_type": "execute_result"
    }
   ],
   "source": [
    "pred_prob[0]"
   ]
  },
  {
   "cell_type": "code",
   "execution_count": 52,
   "metadata": {},
   "outputs": [
    {
     "data": {
      "text/plain": [
       "9"
      ]
     },
     "execution_count": 52,
     "metadata": {},
     "output_type": "execute_result"
    }
   ],
   "source": [
    "np.argmax(pred_prob[0])"
   ]
  },
  {
   "cell_type": "code",
   "execution_count": 53,
   "metadata": {},
   "outputs": [
    {
     "data": {
      "text/plain": [
       "array([9, 2, 1, ..., 8, 1, 5], dtype=int64)"
      ]
     },
     "execution_count": 53,
     "metadata": {},
     "output_type": "execute_result"
    }
   ],
   "source": [
    "y_pred = np.argmax(pred_prob, axis=1)\n",
    "y_pred"
   ]
  },
  {
   "cell_type": "code",
   "execution_count": 54,
   "metadata": {},
   "outputs": [
    {
     "data": {
      "text/plain": [
       "(10000,)"
      ]
     },
     "execution_count": 54,
     "metadata": {},
     "output_type": "execute_result"
    }
   ],
   "source": [
    "y_pred.shape"
   ]
  },
  {
   "cell_type": "code",
   "execution_count": 55,
   "metadata": {},
   "outputs": [
    {
     "name": "stdout",
     "output_type": "stream",
     "text": [
      "              precision    recall  f1-score   support\n",
      "\n",
      "           0       0.91      0.85      0.88      1000\n",
      "           1       1.00      0.98      0.99      1000\n",
      "           2       0.87      0.90      0.88      1000\n",
      "           3       0.92      0.94      0.93      1000\n",
      "           4       0.87      0.89      0.88      1000\n",
      "           5       0.99      0.98      0.99      1000\n",
      "           6       0.79      0.80      0.79      1000\n",
      "           7       0.96      0.98      0.97      1000\n",
      "           8       0.99      0.97      0.98      1000\n",
      "           9       0.97      0.97      0.97      1000\n",
      "\n",
      "    accuracy                           0.93     10000\n",
      "   macro avg       0.93      0.93      0.93     10000\n",
      "weighted avg       0.93      0.93      0.93     10000\n",
      "\n"
     ]
    }
   ],
   "source": [
    "print(classification_report(y_test, y_pred))"
   ]
  },
  {
   "cell_type": "code",
   "execution_count": 56,
   "metadata": {},
   "outputs": [
    {
     "name": "stdout",
     "output_type": "stream",
     "text": [
      "[[855   0  22  14   3   0  99   2   5   0]\n",
      " [  1 983   0  11   1   0   4   0   0   0]\n",
      " [ 12   1 895   7  35   0  50   0   0   0]\n",
      " [  7   1   9 935  28   0  20   0   0   0]\n",
      " [  1   1  58  16 891   0  33   0   0   0]\n",
      " [  0   0   0   0   0 983   0   9   0   8]\n",
      " [ 63   0  47  27  63   0 795   1   4   0]\n",
      " [  0   0   0   0   0   3   0 979   0  18]\n",
      " [  3   0   1   4   4   1   5   7 975   0]\n",
      " [  0   0   0   0   0   2   1  27   0 970]]\n"
     ]
    }
   ],
   "source": [
    "print(confusion_matrix(y_test, y_pred))"
   ]
  },
  {
   "cell_type": "code",
   "execution_count": 57,
   "metadata": {},
   "outputs": [
    {
     "data": {
      "image/png": "[encoded data removed]",
      "text/plain": [
       "<Figure size 1080x720 with 2 Axes>"
      ]
     },
     "metadata": {},
     "output_type": "display_data"
    }
   ],
   "source": [
    "plt.figure(figsize=(15,10))\n",
    "ax= sns.heatmap(confusion_matrix(y_test, y_pred), annot=True, cmap=\"Reds\", linewidths=.6, linecolor='black', fmt='g', annot_kws = {\"size\": 15})\n",
    "ax.set_xticklabels(classes, fontsize=12)\n",
    "ax.set_yticklabels(classes, fontsize=12)\n",
    "plt.show()"
   ]
  },
  {
   "cell_type": "code",
   "execution_count": 58,
   "metadata": {},
   "outputs": [
    {
     "data": {
      "text/plain": [
       "array([False, False, False, ..., False, False, False])"
      ]
     },
     "execution_count": 58,
     "metadata": {},
     "output_type": "execute_result"
    }
   ],
   "source": [
    "y_test != y_pred"
   ]
  },
  {
   "cell_type": "code",
   "execution_count": 59,
   "metadata": {},
   "outputs": [
    {
     "data": {
      "text/plain": [
       "739"
      ]
     },
     "execution_count": 59,
     "metadata": {},
     "output_type": "execute_result"
    }
   ],
   "source": [
    "(y_test != y_pred).sum()"
   ]
  },
  {
   "cell_type": "markdown",
   "metadata": {},
   "source": [
    "## Prediction"
   ]
  },
  {
   "cell_type": "code",
   "execution_count": 68,
   "metadata": {},
   "outputs": [],
   "source": [
    "my_image = X_test[35]"
   ]
  },
  {
   "cell_type": "code",
   "execution_count": 69,
   "metadata": {},
   "outputs": [
    {
     "data": {
      "text/plain": [
       "(28, 28, 1)"
      ]
     },
     "execution_count": 69,
     "metadata": {},
     "output_type": "execute_result"
    }
   ],
   "source": [
    "my_image.shape"
   ]
  },
  {
   "cell_type": "code",
   "execution_count": 70,
   "metadata": {},
   "outputs": [
    {
     "data": {
      "image/png": "[encoded data removed]",
      "text/plain": [
       "<Figure size 720x432 with 1 Axes>"
      ]
     },
     "metadata": {},
     "output_type": "display_data"
    }
   ],
   "source": [
    "plt.imshow(my_image);"
   ]
  },
  {
   "cell_type": "code",
   "execution_count": 71,
   "metadata": {},
   "outputs": [],
   "source": [
    "image_prediction = model.predict(my_image.reshape(1,28,28,1))"
   ]
  },
  {
   "cell_type": "code",
   "execution_count": 72,
   "metadata": {},
   "outputs": [
    {
     "data": {
      "text/plain": [
       "array([[9.9279779e-01, 2.3478315e-06, 2.4046576e-04, 2.2175784e-04,\n",
       "        1.5998221e-05, 6.3083938e-08, 6.7111608e-03, 1.8958423e-06,\n",
       "        6.4276101e-06, 1.9866663e-06]], dtype=float32)"
      ]
     },
     "execution_count": 72,
     "metadata": {},
     "output_type": "execute_result"
    }
   ],
   "source": [
    "image_prediction"
   ]
  },
  {
   "cell_type": "code",
   "execution_count": 73,
   "metadata": {},
   "outputs": [
    {
     "data": {
      "text/plain": [
       "array([0], dtype=int64)"
      ]
     },
     "execution_count": 73,
     "metadata": {},
     "output_type": "execute_result"
    }
   ],
   "source": [
    "np.argmax(image_prediction, axis=1)"
   ]
  },
  {
   "cell_type": "code",
   "execution_count": 75,
   "metadata": {},
   "outputs": [],
   "source": [
    "result=np.argmax(image_prediction, axis=1)"
   ]
  },
  {
   "cell_type": "code",
   "execution_count": 76,
   "metadata": {},
   "outputs": [
    {
     "data": {
      "text/plain": [
       "array([0], dtype=int64)"
      ]
     },
     "execution_count": 76,
     "metadata": {},
     "output_type": "execute_result"
    }
   ],
   "source": [
    "result"
   ]
  },
  {
   "cell_type": "code",
   "execution_count": 83,
   "metadata": {},
   "outputs": [
    {
     "data": {
      "text/plain": [
       "'T-shirt/top'"
      ]
     },
     "execution_count": 83,
     "metadata": {},
     "output_type": "execute_result"
    }
   ],
   "source": [
    "classes[int(result)]"
   ]
  },
  {
   "cell_type": "code",
   "execution_count": 84,
   "metadata": {},
   "outputs": [
    {
     "data": {
      "image/png": "[encoded data removed]",
      "text/plain": [
       "<Figure size 720x432 with 1 Axes>"
      ]
     },
     "metadata": {},
     "output_type": "display_data"
    }
   ],
   "source": [
    "plt.imshow(my_image);"
   ]
  }
 ],
 "metadata": {
  "kernelspec": {
   "display_name": "ali-gpu",
   "language": "python",
   "name": "python3"
  },
  "language_info": {
   "codemirror_mode": {
    "name": "ipython",
    "version": 3
   },
   "file_extension": ".py",
   "mimetype": "text/x-python",
   "name": "python",
   "nbconvert_exporter": "python",
   "pygments_lexer": "ipython3",
   "version": "3.6.13"
  },
  "toc": {
   "base_numbering": 1,
   "nav_menu": {},
   "number_sections": false,
   "sideBar": true,
   "skip_h1_title": false,
   "title_cell": "Table of Contents",
   "title_sidebar": "Contents",
   "toc_cell": false,
   "toc_position": {},
   "toc_section_display": true,
   "toc_window_display": true
  },
  "vscode": {
   "interpreter": {
    "hash": "9d77006825ab8f61216812579f1a5b5af7d45a63ff79062d54c808606583f586"
   }
  }
 },
 "nbformat": 4,
 "nbformat_minor": 2
}
